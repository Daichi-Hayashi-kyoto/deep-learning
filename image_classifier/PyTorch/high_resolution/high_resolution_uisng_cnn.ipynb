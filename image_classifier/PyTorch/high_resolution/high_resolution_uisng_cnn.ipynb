{
 "cells": [
  {
   "cell_type": "markdown",
   "metadata": {},
   "source": [
    "## CNNを用いた回帰モデルによる画像の高解像度化を行うよ\n",
    "- ここでは，様々な人の顔の画像データに対して128 x 128 ピクセルの画像Aとされを　32 x 32に縮小した画像Bを用意する．\n",
    "- この際に，画像Bを128 x 128のサイズに拡大した結果と画像Aの各ピクセル値の誤差をとり，これを小さくしていく学習を行う．\n",
    "\n",
    "\n",
    "### データの準備\n",
    "- 以下のサイトから画像を準備しました．\n",
    "    - http://vis-www.cs.umass.edu/lfw/\n",
    "        - ダウンロードリンク: http://vis-www.cs.umass.edu/lfw/lfw-deepfunneled.tgz\n",
    "- これを頭文字がX・Y・Zで始まる人物の画像データをtestデータに，それ以外をtrainデータにしました．\n",
    "- Linux or MacOSの方はカレントディレクトリにtrain, testディレクトリを用意していただけると以下のコマンドで移動できます.\n",
    "    - `mv lfw-deepfunneled/[A - W]* train/`\n",
    "    - `mv lfw-deepfunneled/[X-Z]* test/`"
   ]
  },
  {
   "cell_type": "markdown",
   "metadata": {},
   "source": [
    "### Dateset と DataLoaderの準備"
   ]
  },
  {
   "cell_type": "code",
   "execution_count": 1,
   "metadata": {},
   "outputs": [],
   "source": [
    "from torchvision.datasets import ImageFolder\n",
    "from torchvision import transforms\n",
    "from torch.utils.data import Dataset, DataLoader, TensorDataset\n",
    "\n",
    "class DownsizeImageFolder(ImageFolder):\n",
    "    \n",
    "    # デフォルト値を含むものは、最後にしないとおしかりを受ける\n",
    "    def __init__(self, root, transform = None, large_size = 128, small_size = 32, **kwds):\n",
    "        super().__init__(root, transform = transform, **kwds)\n",
    "        self.large_resizer = transforms.Resize(large_size)\n",
    "        self.small_resizer = transforms.Resize(small_size)\n",
    "\n",
    "    def __getitem__(self, index):\n",
    "        path, _ = self.imgs[index]\n",
    "        img = self.loader(path)\n",
    "\n",
    "        # 読み込んだ画像を128 x 128 pixel to 32 x 32 pixelにresize\n",
    "\n",
    "        large_image = self.large_resizer(img)\n",
    "        small_image = self.small_resizer(img)\n",
    "\n",
    "        # その他の変換を適用させる\n",
    "        if self.transform is not None:\n",
    "            large_image = self.transform(large_image)\n",
    "            small_image = self.transform(small_image)\n",
    "\n",
    "        return small_image, large_image\n"
   ]
  },
  {
   "cell_type": "code",
   "execution_count": 2,
   "metadata": {},
   "outputs": [],
   "source": [
    "train_data = DownsizeImageFolder(\n",
    "    \"./lfw-deepfunneled/train\", transforms.ToTensor()\n",
    ")\n",
    "\n",
    "test_data = DownsizeImageFolder(\n",
    "    \"./lfw-deepfunneled/test\", transforms.ToTensor()\n",
    ")\n",
    "\n",
    "batch_size = 32\n",
    "# num_workers は自身のCPUのcore数を指定して下さい\n",
    "train_loader = DataLoader(train_data, batch_size = batch_size, shuffle = True, num_workers = 4)\n",
    "test_loader = DataLoader(test_data, batch_size = batch_size, shuffle = False, num_workers = 4)"
   ]
  },
  {
   "cell_type": "code",
   "execution_count": 10,
   "metadata": {},
   "outputs": [
    {
     "data": {
      "text/plain": [
       "13071"
      ]
     },
     "execution_count": 10,
     "metadata": {},
     "output_type": "execute_result"
    }
   ],
   "source": [
    "len(train_data)"
   ]
  },
  {
   "cell_type": "code",
   "execution_count": 3,
   "metadata": {},
   "outputs": [],
   "source": [
    "import torch\n",
    "import torch.nn as nn\n",
    "import torch.nn.functional as F\n",
    "from torch import optim\n",
    "\n",
    "# ネットワークの構築\n",
    "\n",
    "class net(nn.Module):\n",
    "\n",
    "    def __init__(self):\n",
    "\n",
    "        super(net, self).__init__()\n",
    "\n",
    "        # define the network's architecture\n",
    "        self.conv1 = nn.Conv2d(3, 256, kernel_size = 4, stride = 2, padding = 1)\n",
    "        self.batchnormal1 = nn.BatchNorm2d(256)\n",
    "        self.conv2 = nn.Conv2d(256, 512, kernel_size = 4, stride = 2, padding = 1)\n",
    "        self.batchnormal2 = nn.BatchNorm2d(512)\n",
    "        self.convtrans1 = nn.ConvTranspose2d(512, 256, kernel_size = 4, stride = 2, padding = 1)\n",
    "        self.batchnormal3 = nn.BatchNorm2d(256)\n",
    "        self.convtrans2 = nn.ConvTranspose2d(256, 128, kernel_size = 4, stride = 2, padding = 1)\n",
    "        self.batchnormal4 = nn.BatchNorm2d(128)\n",
    "        self.convtrans3 = nn.ConvTranspose2d(128, 64, kernel_size = 4, stride = 2, padding = 1)\n",
    "        self.batchnormal5 = nn.BatchNorm2d(64)\n",
    "        self.convtrans4 = nn.ConvTranspose2d(64, 3, kernel_size = 4, stride = 2, padding = 1)\n",
    "\n",
    "    def forward(self, x):\n",
    "        x = self.conv1(x)\n",
    "        x = F.relu(x)\n",
    "        x = self.batchnormal1(x)\n",
    "        x = self.conv2(x)\n",
    "        x = F.relu(x)\n",
    "        x = self.batchnormal2(x)\n",
    "        x = self.convtrans1(x)\n",
    "        x = F.relu(x)\n",
    "        x = self.batchnormal3(x)\n",
    "        x = self.convtrans2(x)\n",
    "        x = F.relu(x)\n",
    "        x = self.batchnormal4(x)\n",
    "        x = self.convtrans3(x)\n",
    "        x = F.relu(x)\n",
    "        x = self.batchnormal5(x)\n",
    "        output = self.convtrans4(x)\n",
    "        return output\n"
   ]
  },
  {
   "cell_type": "code",
   "execution_count": 5,
   "metadata": {},
   "outputs": [],
   "source": [
    "import trainer"
   ]
  },
  {
   "cell_type": "code",
   "execution_count": 6,
   "metadata": {
    "scrolled": true
   },
   "outputs": [
    {
     "name": "stdout",
     "output_type": "stream",
     "text": [
      "We use cuda:0\n",
      "epoch1/20\n",
      "=======================================\n"
     ]
    },
    {
     "name": "stderr",
     "output_type": "stream",
     "text": [
      "100%|██████████| 409/409 [00:10<00:00, 39.85it/s]\n"
     ]
    },
    {
     "name": "stdout",
     "output_type": "stream",
     "text": [
      "1回目のepochでの訓練Loss: 0.026328049571660954 検証Loss: 0.005281273741275072\n",
      "epoch2/20\n",
      "=======================================\n"
     ]
    },
    {
     "name": "stderr",
     "output_type": "stream",
     "text": [
      "100%|██████████| 409/409 [00:09<00:00, 41.17it/s]\n"
     ]
    },
    {
     "name": "stdout",
     "output_type": "stream",
     "text": [
      "2回目のepochでの訓練Loss: 0.004263460486421412 検証Loss: 0.003161841304972768\n",
      "epoch3/20\n",
      "=======================================\n"
     ]
    },
    {
     "name": "stderr",
     "output_type": "stream",
     "text": [
      "100%|██████████| 409/409 [00:09<00:00, 41.05it/s]\n"
     ]
    },
    {
     "name": "stdout",
     "output_type": "stream",
     "text": [
      "3回目のepochでの訓練Loss: 0.0033731061423283915 検証Loss: 0.0025876082945615053\n",
      "epoch4/20\n",
      "=======================================\n"
     ]
    },
    {
     "name": "stderr",
     "output_type": "stream",
     "text": [
      "100%|██████████| 409/409 [00:09<00:00, 41.10it/s]\n"
     ]
    },
    {
     "name": "stdout",
     "output_type": "stream",
     "text": [
      "4回目のepochでの訓練Loss: 0.0031131844191122026 検証Loss: 0.0024980115704238415\n",
      "epoch5/20\n",
      "=======================================\n"
     ]
    },
    {
     "name": "stderr",
     "output_type": "stream",
     "text": [
      "100%|██████████| 409/409 [00:09<00:00, 41.21it/s]\n"
     ]
    },
    {
     "name": "stdout",
     "output_type": "stream",
     "text": [
      "5回目のepochでの訓練Loss: 0.0027463907122038177 検証Loss: 0.002601651009172201\n",
      "epoch6/20\n",
      "=======================================\n"
     ]
    },
    {
     "name": "stderr",
     "output_type": "stream",
     "text": [
      "100%|██████████| 409/409 [00:09<00:00, 40.96it/s]\n"
     ]
    },
    {
     "name": "stdout",
     "output_type": "stream",
     "text": [
      "6回目のepochでの訓練Loss: 0.0026585609364052345 検証Loss: 0.0029753977432847023\n",
      "epoch7/20\n",
      "=======================================\n"
     ]
    },
    {
     "name": "stderr",
     "output_type": "stream",
     "text": [
      "100%|██████████| 409/409 [00:09<00:00, 40.92it/s]\n"
     ]
    },
    {
     "name": "stdout",
     "output_type": "stream",
     "text": [
      "7回目のepochでの訓練Loss: 0.00250489837011837 検証Loss: 0.0030406592413783073\n",
      "epoch8/20\n",
      "=======================================\n"
     ]
    },
    {
     "name": "stderr",
     "output_type": "stream",
     "text": [
      "100%|██████████| 409/409 [00:10<00:00, 40.85it/s]\n"
     ]
    },
    {
     "name": "stdout",
     "output_type": "stream",
     "text": [
      "8回目のepochでの訓練Loss: 0.0025063056027981247 検証Loss: 0.0019914289005100727\n",
      "epoch9/20\n",
      "=======================================\n"
     ]
    },
    {
     "name": "stderr",
     "output_type": "stream",
     "text": [
      "100%|██████████| 409/409 [00:10<00:00, 40.86it/s]\n"
     ]
    },
    {
     "name": "stdout",
     "output_type": "stream",
     "text": [
      "9回目のepochでの訓練Loss: 0.0023306025824598366 検証Loss: 0.002378345001488924\n",
      "epoch10/20\n",
      "=======================================\n"
     ]
    },
    {
     "name": "stderr",
     "output_type": "stream",
     "text": [
      "100%|██████████| 409/409 [00:10<00:00, 40.87it/s]\n"
     ]
    },
    {
     "name": "stdout",
     "output_type": "stream",
     "text": [
      "10回目のepochでの訓練Loss: 0.0024297856443964657 検証Loss: 0.0020281807519495487\n",
      "epoch11/20\n",
      "=======================================\n"
     ]
    },
    {
     "name": "stderr",
     "output_type": "stream",
     "text": [
      "100%|██████████| 409/409 [00:10<00:00, 40.72it/s]\n"
     ]
    },
    {
     "name": "stdout",
     "output_type": "stream",
     "text": [
      "11回目のepochでの訓練Loss: 0.002261908883160586 検証Loss: 0.0032807195093482733\n",
      "epoch12/20\n",
      "=======================================\n"
     ]
    },
    {
     "name": "stderr",
     "output_type": "stream",
     "text": [
      "100%|██████████| 409/409 [00:09<00:00, 40.98it/s]\n"
     ]
    },
    {
     "name": "stdout",
     "output_type": "stream",
     "text": [
      "12回目のepochでの訓練Loss: 0.002341826775106704 検証Loss: 0.002303888788446784\n",
      "epoch13/20\n",
      "=======================================\n"
     ]
    },
    {
     "name": "stderr",
     "output_type": "stream",
     "text": [
      "100%|██████████| 409/409 [00:09<00:00, 40.94it/s]\n"
     ]
    },
    {
     "name": "stdout",
     "output_type": "stream",
     "text": [
      "13回目のepochでの訓練Loss: 0.002203116565715057 検証Loss: 0.0032868690323084593\n",
      "epoch14/20\n",
      "=======================================\n"
     ]
    },
    {
     "name": "stderr",
     "output_type": "stream",
     "text": [
      "100%|██████████| 409/409 [00:10<00:00, 40.46it/s]\n"
     ]
    },
    {
     "name": "stdout",
     "output_type": "stream",
     "text": [
      "14回目のepochでの訓練Loss: 0.002142747966880047 検証Loss: 0.0018989642849192023\n",
      "epoch15/20\n",
      "=======================================\n"
     ]
    },
    {
     "name": "stderr",
     "output_type": "stream",
     "text": [
      "100%|██████████| 409/409 [00:10<00:00, 40.77it/s]\n"
     ]
    },
    {
     "name": "stdout",
     "output_type": "stream",
     "text": [
      "15回目のepochでの訓練Loss: 0.002178865410888472 検証Loss: 0.0020390835124999285\n",
      "epoch16/20\n",
      "=======================================\n"
     ]
    },
    {
     "name": "stderr",
     "output_type": "stream",
     "text": [
      "100%|██████████| 409/409 [00:10<00:00, 40.83it/s]\n"
     ]
    },
    {
     "name": "stdout",
     "output_type": "stream",
     "text": [
      "16回目のepochでの訓練Loss: 0.0020608800869835837 検証Loss: 0.001911570318043232\n",
      "epoch17/20\n",
      "=======================================\n"
     ]
    },
    {
     "name": "stderr",
     "output_type": "stream",
     "text": [
      "100%|██████████| 409/409 [00:10<00:00, 40.88it/s]\n"
     ]
    },
    {
     "name": "stdout",
     "output_type": "stream",
     "text": [
      "17回目のepochでの訓練Loss: 0.002198396483151593 検証Loss: 0.00230066548101604\n",
      "epoch18/20\n",
      "=======================================\n"
     ]
    },
    {
     "name": "stderr",
     "output_type": "stream",
     "text": [
      "100%|██████████| 409/409 [00:09<00:00, 40.91it/s]\n"
     ]
    },
    {
     "name": "stdout",
     "output_type": "stream",
     "text": [
      "18回目のepochでの訓練Loss: 0.0022484256244380673 検証Loss: 0.004749834071844816\n",
      "epoch19/20\n",
      "=======================================\n"
     ]
    },
    {
     "name": "stderr",
     "output_type": "stream",
     "text": [
      "100%|██████████| 409/409 [00:10<00:00, 40.85it/s]\n"
     ]
    },
    {
     "name": "stdout",
     "output_type": "stream",
     "text": [
      "19回目のepochでの訓練Loss: 0.0024166548386111418 検証Loss: 0.0025771590881049633\n",
      "epoch20/20\n",
      "=======================================\n"
     ]
    },
    {
     "name": "stderr",
     "output_type": "stream",
     "text": [
      "100%|██████████| 409/409 [00:10<00:00, 40.87it/s]\n"
     ]
    },
    {
     "name": "stdout",
     "output_type": "stream",
     "text": [
      "20回目のepochでの訓練Loss: 0.0021227132770959244 検証Loss: 0.0017973576905205846\n"
     ]
    }
   ],
   "source": [
    "train_loss, test_loss = trainer.trainer(model, train_loader, test_loader, epoch_num = 20)"
   ]
  },
  {
   "cell_type": "code",
   "execution_count": 7,
   "metadata": {},
   "outputs": [
    {
     "data": {
      "image/png": "[encoded data removed]",
      "text/plain": [
       "<Figure size 720x576 with 1 Axes>"
      ]
     },
     "metadata": {
      "needs_background": "light"
     },
     "output_type": "display_data"
    }
   ],
   "source": [
    "import matplotlib.pyplot as plt\n",
    "import seaborn as sns\n",
    "plt.style.use(\"seaborn\")\n",
    "%matplotlib inline\n",
    "\n",
    "plt.figure(figsize = (10, 8))\n",
    "plt.plot(train_loss, label = \"train\")\n",
    "plt.plot(test_loss, label = \"test\", color = \"red\")\n",
    "plt.xlabel(\"epoch\")\n",
    "plt.ylabel(\"MSE\")\n",
    "plt.legend()\n",
    "plt.show()"
   ]
  },
  {
   "cell_type": "code",
   "execution_count": 8,
   "metadata": {},
   "outputs": [
    {
     "name": "stderr",
     "output_type": "stream",
     "text": [
      "/home/statistics3/anaconda3/lib/python3.6/site-packages/torch/nn/functional.py:2622: UserWarning: nn.functional.upsample_bilinear is deprecated. Use nn.functional.interpolate instead.\n",
      "  warnings.warn(\"nn.functional.upsample_bilinear is deprecated. Use nn.functional.interpolate instead.\")\n"
     ]
    }
   ],
   "source": [
    "from torchvision.utils import save_image\n",
    "random_test_loader = DataLoader(test_data, batch_size = 5, shuffle=True)\n",
    "\n",
    "# DataLoaderをイテレーターに変換して5つの例を取り出す\n",
    "\n",
    "it = iter(random_test_loader)\n",
    "small_image, large_image = next(it)\n",
    "\n",
    "\n",
    "import torch \n",
    "import torch.nn as nn\n",
    "import torch.nn.functional as F\n",
    "\n",
    "# Bilinerで拡大したもの\n",
    "bl_recon = F.upsample_bilinear(small_image, 128)\n",
    "\n",
    "# CNNで拡大\n",
    "cnn_image = model(small_image.to(\"cuda:0\")).to(\"cpu\")"
   ]
  },
  {
   "cell_type": "code",
   "execution_count": 9,
   "metadata": {},
   "outputs": [],
   "source": [
    "save_image(torch.cat([large_image, bl_recon, cnn_image], dim = 0), \"cnn_upsampling.jpg\", nrow = 5)"
   ]
  },
  {
   "cell_type": "code",
   "execution_count": 12,
   "metadata": {},
   "outputs": [],
   "source": [
    "save_image(small_image, \"down_sampling.jpg\")"
   ]
  }
 ],
 "metadata": {
  "kernelspec": {
   "display_name": "Python 3",
   "language": "python",
   "name": "python3"
  },
  "language_info": {
   "codemirror_mode": {
    "name": "ipython",
    "version": 3
   },
   "file_extension": ".py",
   "mimetype": "text/x-python",
   "name": "python",
   "nbconvert_exporter": "python",
   "pygments_lexer": "ipython3",
   "version": "3.6.6"
  }
 },
 "nbformat": 4,
 "nbformat_minor": 2
}
